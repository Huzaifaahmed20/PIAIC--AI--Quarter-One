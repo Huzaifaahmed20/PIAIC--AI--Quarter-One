{
 "cells": [
  {
   "cell_type": "markdown",
   "metadata": {},
   "source": [
    "# Args and *kwargs"
   ]
  },
  {
   "cell_type": "code",
   "execution_count": 9,
   "metadata": {},
   "outputs": [],
   "source": [
    "def pizza(size, *toppings):\n",
    "    print(f'Size: {size}')\n",
    "    print('Your Pizza Toppings:')\n",
    "    for topping in toppings:\n",
    "        print(topping)\n",
    "    "
   ]
  },
  {
   "cell_type": "code",
   "execution_count": 10,
   "metadata": {},
   "outputs": [
    {
     "name": "stdout",
     "output_type": "stream",
     "text": [
      "Size: 12\n",
      "Your Pizza Toppings:\n",
      "onions\n",
      "cheese\n",
      "chicken\n"
     ]
    }
   ],
   "source": [
    "pizza(12,'onions','cheese','chicken')"
   ]
  },
  {
   "cell_type": "code",
   "execution_count": 23,
   "metadata": {},
   "outputs": [],
   "source": [
    "def restaurant(name,amount,*orders):\n",
    "    print(f'Hey {name}')\n",
    "    if amount == 0:\n",
    "        print('Please pay your bill')\n",
    "        return\n",
    "    else:\n",
    "        print(f'Your Amount: {amount}')\n",
    "    print('Your Order: ')\n",
    "    for order in orders:\n",
    "        print(order)"
   ]
  },
  {
   "cell_type": "code",
   "execution_count": 25,
   "metadata": {},
   "outputs": [
    {
     "name": "stdout",
     "output_type": "stream",
     "text": [
      "Hey Ali\n",
      "Your Amount: 10\n",
      "Your Order: \n",
      "chicken\n"
     ]
    }
   ],
   "source": [
    "restaurant('Ali',10,'chicken')"
   ]
  },
  {
   "cell_type": "code",
   "execution_count": 26,
   "metadata": {},
   "outputs": [],
   "source": [
    "def profile(fname, lname, **otherInfo):\n",
    "    print(fname,lname)\n",
    "    print(otherInfo)"
   ]
  },
  {
   "cell_type": "code",
   "execution_count": 29,
   "metadata": {},
   "outputs": [
    {
     "name": "stdout",
     "output_type": "stream",
     "text": [
      "Ali Ahmed\n",
      "{'age': 10, 'address': 'lahore'}\n"
     ]
    }
   ],
   "source": [
    "profile('Ali','Ahmed',age=10,address='lahore')"
   ]
  },
  {
   "cell_type": "markdown",
   "metadata": {},
   "source": [
    "## Global and local scopes"
   ]
  },
  {
   "cell_type": "code",
   "execution_count": 30,
   "metadata": {},
   "outputs": [],
   "source": [
    "def fruits():\n",
    "    global fruit # make local variable global\n",
    "    fruit = 'apple'\n",
    "    print(fruit)"
   ]
  },
  {
   "cell_type": "code",
   "execution_count": 32,
   "metadata": {},
   "outputs": [
    {
     "name": "stdout",
     "output_type": "stream",
     "text": [
      "apple\n"
     ]
    }
   ],
   "source": [
    "fruits()"
   ]
  },
  {
   "cell_type": "code",
   "execution_count": 33,
   "metadata": {},
   "outputs": [
    {
     "name": "stdout",
     "output_type": "stream",
     "text": [
      "apple\n"
     ]
    }
   ],
   "source": [
    "print(fruit)"
   ]
  },
  {
   "cell_type": "markdown",
   "metadata": {},
   "source": [
    "# Use of functions as a variables"
   ]
  },
  {
   "cell_type": "code",
   "execution_count": 36,
   "metadata": {},
   "outputs": [],
   "source": [
    "def add():\n",
    "    a = 3 + 4\n",
    "    return a\n",
    "\n",
    "def sub():\n",
    "    b = 30 - 10\n",
    "    return b\n"
   ]
  },
  {
   "cell_type": "code",
   "execution_count": 39,
   "metadata": {},
   "outputs": [
    {
     "name": "stdout",
     "output_type": "stream",
     "text": [
      "27\n"
     ]
    }
   ],
   "source": [
    "result = add() + sub()\n",
    "print(result)"
   ]
  },
  {
   "cell_type": "code",
   "execution_count": 40,
   "metadata": {},
   "outputs": [],
   "source": [
    "def Comm_Calc(sales_value):\n",
    "    if sales_value > 10000:\n",
    "        percent = 5\n",
    "    elif sales_value > 50000:\n",
    "        percent = 10\n",
    "    elif sales_value > 100000:\n",
    "        percent = 20;\n",
    "    else:\n",
    "        percent = 0 \n",
    "    \n",
    "    commission = sales_value /100 * percent\n",
    "    return commission\n",
    "\n",
    "def grossCalc(basic, sales_value):\n",
    "    grossPay = basic + Comm_Calc(sales_value)\n",
    "    return grossPay\n",
    "    "
   ]
  },
  {
   "cell_type": "code",
   "execution_count": 42,
   "metadata": {},
   "outputs": [
    {
     "name": "stdout",
     "output_type": "stream",
     "text": [
      "27500.0\n"
     ]
    }
   ],
   "source": [
    "pay = grossCalc(25000, 50000)\n",
    "print(pay)"
   ]
  },
  {
   "cell_type": "markdown",
   "metadata": {},
   "source": [
    "# While Loops"
   ]
  },
  {
   "cell_type": "code",
   "execution_count": 1,
   "metadata": {},
   "outputs": [
    {
     "name": "stdout",
     "output_type": "stream",
     "text": [
      "1\n",
      "2\n",
      "3\n",
      "4\n",
      "5\n",
      "6\n",
      "7\n",
      "8\n",
      "9\n"
     ]
    }
   ],
   "source": [
    "a = 1\n",
    "while a < 10:\n",
    "    print(a)\n",
    "    a += 1"
   ]
  },
  {
   "cell_type": "code",
   "execution_count": 5,
   "metadata": {},
   "outputs": [],
   "source": [
    "def greetGuest(name):\n",
    "    print(f'Hello {name}')\n",
    "          "
   ]
  },
  {
   "cell_type": "code",
   "execution_count": 12,
   "metadata": {},
   "outputs": [
    {
     "name": "stdout",
     "output_type": "stream",
     "text": [
      "Please enter your name: ali\n",
      "Hello ali\n",
      "Please enter your name: hamza\n",
      "Hello hamza\n",
      "Please enter your name: q\n"
     ]
    }
   ],
   "source": [
    "flag = True\n",
    "while flag:\n",
    "    \n",
    "    name = input('Please enter your name: ')\n",
    "    if name == 'q':\n",
    "        flag = False\n",
    "        break\n",
    "    greetGuest(name)\n",
    "   "
   ]
  },
  {
   "cell_type": "code",
   "execution_count": null,
   "metadata": {},
   "outputs": [],
   "source": []
  }
 ],
 "metadata": {
  "kernelspec": {
   "display_name": "Python 3",
   "language": "python",
   "name": "python3"
  },
  "language_info": {
   "codemirror_mode": {
    "name": "ipython",
    "version": 3
   },
   "file_extension": ".py",
   "mimetype": "text/x-python",
   "name": "python",
   "nbconvert_exporter": "python",
   "pygments_lexer": "ipython3",
   "version": "3.7.3"
  }
 },
 "nbformat": 4,
 "nbformat_minor": 2
}
