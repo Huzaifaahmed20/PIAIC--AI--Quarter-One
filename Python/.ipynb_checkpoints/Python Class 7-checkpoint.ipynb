{
 "cells": [
  {
   "cell_type": "markdown",
   "metadata": {},
   "source": [
    "# Object Oriented Programming (OOP)"
   ]
  },
  {
   "cell_type": "markdown",
   "metadata": {},
   "source": [
    "## Classes"
   ]
  },
  {
   "cell_type": "code",
   "execution_count": 30,
   "metadata": {},
   "outputs": [],
   "source": [
    "class Patient():\n",
    "    def __init__(self, name, gender, age, disease): #initialize class initializer in (JS it is constructor)\n",
    "        \n",
    "        # attributes (Variables)\n",
    "        self.patient_name = name\n",
    "        self.patient_gender = gender\n",
    "        self.patient_age = age\n",
    "        self.patient_disease = disease\n",
    "        \n",
    "        #behaviour (functions)\n",
    "    def takes_med(self):\n",
    "        print(f'{self.patient_name} is taking medicine')\n",
    "    def pay_fees(self):\n",
    "        print(f'{self.patient_name} is depositing fees')\n",
    "    def take_rest(self):\n",
    "        print(f'{self.patient_name} is taking rest')\n",
    "        \n",
    "        \n",
    "        "
   ]
  },
  {
   "cell_type": "code",
   "execution_count": 32,
   "metadata": {},
   "outputs": [],
   "source": [
    "p123 = Patient('Ali', 'male', 21, 'fever')"
   ]
  },
  {
   "cell_type": "code",
   "execution_count": 35,
   "metadata": {},
   "outputs": [],
   "source": [
    "p456 = Patient('Hamza', 'male', 40, 'typhoid')"
   ]
  },
  {
   "cell_type": "code",
   "execution_count": 34,
   "metadata": {},
   "outputs": [
    {
     "name": "stdout",
     "output_type": "stream",
     "text": [
      "Ali is depositing fees\n"
     ]
    }
   ],
   "source": [
    "p123.pay_fees()"
   ]
  },
  {
   "cell_type": "code",
   "execution_count": 38,
   "metadata": {},
   "outputs": [
    {
     "name": "stdout",
     "output_type": "stream",
     "text": [
      "Hamza is taking medicine\n"
     ]
    }
   ],
   "source": [
    "p456.takes_med()"
   ]
  },
  {
   "cell_type": "markdown",
   "metadata": {},
   "source": [
    "## Setting a default Parameter"
   ]
  },
  {
   "cell_type": "code",
   "execution_count": 49,
   "metadata": {},
   "outputs": [],
   "source": [
    "class Student():\n",
    "    def __init__(self, fname, lname, gender, age):\n",
    "        self.fname = fname\n",
    "        self.lname = lname\n",
    "        self.gender = gender\n",
    "        self.age = age\n",
    "        self.grade = 'A' #default param not in INIT\n",
    "    \n",
    "    def do_homework(self):\n",
    "        print(f'{self.fname} {self.lname} is doing homework')"
   ]
  },
  {
   "cell_type": "code",
   "execution_count": 51,
   "metadata": {},
   "outputs": [],
   "source": [
    "std123 = Student('Ali','Ahmed','male',12)"
   ]
  },
  {
   "cell_type": "code",
   "execution_count": 53,
   "metadata": {},
   "outputs": [],
   "source": [
    "std124 = Student('Hamza','Ahmed','male',14)"
   ]
  },
  {
   "cell_type": "code",
   "execution_count": 54,
   "metadata": {},
   "outputs": [
    {
     "data": {
      "text/plain": [
       "'A'"
      ]
     },
     "execution_count": 54,
     "metadata": {},
     "output_type": "execute_result"
    }
   ],
   "source": [
    "std124.grade"
   ]
  },
  {
   "cell_type": "code",
   "execution_count": null,
   "metadata": {},
   "outputs": [],
   "source": []
  },
  {
   "cell_type": "code",
   "execution_count": 46,
   "metadata": {},
   "outputs": [
    {
     "name": "stdout",
     "output_type": "stream",
     "text": [
      "Ali Ahmed is doing homework\n"
     ]
    }
   ],
   "source": [
    "std123.do_homework()"
   ]
  },
  {
   "cell_type": "markdown",
   "metadata": {},
   "source": [
    "## Getter and Setter"
   ]
  },
  {
   "cell_type": "code",
   "execution_count": 80,
   "metadata": {},
   "outputs": [],
   "source": [
    "class Car():\n",
    "    def __init__(self, name, make, year): #initialize class initializer in (JS it is constructor)\n",
    "        \n",
    "        # attributes (Variables)\n",
    "        self.name = name\n",
    "        self.make = make\n",
    "        self.year = year\n",
    "        self.meter_reading = 0\n",
    "        \n",
    "        #behaviour (functions)\n",
    "    def description(self):\n",
    "        print(f'{self.name} made by {self.make} in {self.year}')\n",
    "    def take_meter_reading(self):\n",
    "        print(f'The Car ran {self.meter_reading} miles')\n",
    "    def update_meter(self,updated_value):\n",
    "        self.meter_reading = updated_value\n",
    "        \n",
    "        \n",
    "        \n",
    "        "
   ]
  },
  {
   "cell_type": "code",
   "execution_count": 59,
   "metadata": {},
   "outputs": [],
   "source": [
    "car123 = Car ('Mira', 'toyota', '2012')"
   ]
  },
  {
   "cell_type": "code",
   "execution_count": 61,
   "metadata": {},
   "outputs": [
    {
     "name": "stdout",
     "output_type": "stream",
     "text": [
      "The Car ran 0 miles\n"
     ]
    }
   ],
   "source": [
    "car123.take_meter_reading()"
   ]
  },
  {
   "cell_type": "code",
   "execution_count": 68,
   "metadata": {},
   "outputs": [],
   "source": [
    "car123.meter_reading = 1000 # wrong approch (security reasions)"
   ]
  },
  {
   "cell_type": "code",
   "execution_count": 69,
   "metadata": {},
   "outputs": [],
   "source": [
    "car123.update_meter(200) # right approach"
   ]
  },
  {
   "cell_type": "code",
   "execution_count": 65,
   "metadata": {},
   "outputs": [
    {
     "name": "stdout",
     "output_type": "stream",
     "text": [
      "The Car ran 200 miles\n"
     ]
    }
   ],
   "source": [
    "car123.take_meter_reading()"
   ]
  },
  {
   "cell_type": "code",
   "execution_count": 71,
   "metadata": {},
   "outputs": [
    {
     "name": "stdout",
     "output_type": "stream",
     "text": [
      "The Car ran 200 miles\n"
     ]
    }
   ],
   "source": [
    "car123.take_meter_reading()"
   ]
  },
  {
   "cell_type": "markdown",
   "metadata": {},
   "source": [
    "## Inheritance"
   ]
  },
  {
   "cell_type": "code",
   "execution_count": 84,
   "metadata": {},
   "outputs": [],
   "source": [
    "class electric_car(Car): #inheriting electric car from car\n",
    "    def __init__(self, name, make, year):\n",
    "        super().__init__(name,make,year)\n",
    "    "
   ]
  },
  {
   "cell_type": "code",
   "execution_count": 85,
   "metadata": {},
   "outputs": [],
   "source": [
    "my_tesla = electric_car('Tesla', 'SpaceX', '2019')"
   ]
  },
  {
   "cell_type": "code",
   "execution_count": 88,
   "metadata": {},
   "outputs": [
    {
     "name": "stdout",
     "output_type": "stream",
     "text": [
      "Tesla made by SpaceX in 2019\n"
     ]
    }
   ],
   "source": [
    "my_tesla.description()"
   ]
  },
  {
   "cell_type": "code",
   "execution_count": 91,
   "metadata": {},
   "outputs": [
    {
     "data": {
      "text/plain": [
       "0"
      ]
     },
     "execution_count": 91,
     "metadata": {},
     "output_type": "execute_result"
    }
   ],
   "source": [
    "my_tesla.meter_reading"
   ]
  },
  {
   "cell_type": "code",
   "execution_count": 92,
   "metadata": {},
   "outputs": [],
   "source": [
    "my_tesla.update_meter(100)"
   ]
  },
  {
   "cell_type": "code",
   "execution_count": 93,
   "metadata": {},
   "outputs": [
    {
     "data": {
      "text/plain": [
       "100"
      ]
     },
     "execution_count": 93,
     "metadata": {},
     "output_type": "execute_result"
    }
   ],
   "source": [
    "my_tesla.meter_reading"
   ]
  },
  {
   "cell_type": "code",
   "execution_count": null,
   "metadata": {},
   "outputs": [],
   "source": []
  }
 ],
 "metadata": {
  "kernelspec": {
   "display_name": "Python 3",
   "language": "python",
   "name": "python3"
  },
  "language_info": {
   "codemirror_mode": {
    "name": "ipython",
    "version": 3
   },
   "file_extension": ".py",
   "mimetype": "text/x-python",
   "name": "python",
   "nbconvert_exporter": "python",
   "pygments_lexer": "ipython3",
   "version": "3.7.3"
  }
 },
 "nbformat": 4,
 "nbformat_minor": 2
}
