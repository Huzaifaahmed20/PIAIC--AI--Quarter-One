{
 "cells": [
  {
   "cell_type": "markdown",
   "metadata": {},
   "source": [
    "# Inheritance"
   ]
  },
  {
   "cell_type": "markdown",
   "metadata": {},
   "source": [
    "## Code Reusability"
   ]
  },
  {
   "cell_type": "code",
   "execution_count": 1,
   "metadata": {},
   "outputs": [],
   "source": [
    "class Car():\n",
    "    def __init__(self, name, make, year): #initialize class initializer in (JS it is constructor)\n",
    "        \n",
    "        # attributes (Variables)\n",
    "        self.name = name\n",
    "        self.make = make\n",
    "        self.year = year\n",
    "        self.meter_reading = 0\n",
    "        \n",
    "        #behaviour (functions)\n",
    "    def description(self):\n",
    "        print(f'{self.name} made by {self.make} in {self.year}')\n",
    "    def take_meter_reading(self):\n",
    "        print(f'The Car ran {self.meter_reading} miles')\n",
    "    def update_meter(self,updated_value):\n",
    "        self.meter_reading = updated_value\n",
    "        \n",
    "        "
   ]
  },
  {
   "cell_type": "code",
   "execution_count": 93,
   "metadata": {},
   "outputs": [],
   "source": [
    "class Battery():\n",
    "    def __init__(self,batterySize):\n",
    "        self.batterySize = batterySize\n",
    "    \n",
    "    def get_battery_size(self):\n",
    "        print(f\"Battery Size: {self.batterySize}\")\n",
    "    \n",
    "    def set_battery_size(self, newBatterySize):\n",
    "        self.batterySize = newBatterySize\n",
    "        "
   ]
  },
  {
   "cell_type": "code",
   "execution_count": 94,
   "metadata": {},
   "outputs": [],
   "source": [
    "class ElectricCar(Car): # Inherit\n",
    "    def __init__(self, make, model, year):\n",
    "        super().__init__(make, model, year) #inherit things from Parent(Car)\n",
    "        self.battery = Battery('100')\n",
    "        \n",
    "  \n",
    "        \n",
    "        "
   ]
  },
  {
   "cell_type": "code",
   "execution_count": 95,
   "metadata": {},
   "outputs": [],
   "source": [
    "eCar = ElectricCar('Tesla','Elon','2019')"
   ]
  },
  {
   "cell_type": "code",
   "execution_count": 96,
   "metadata": {},
   "outputs": [
    {
     "name": "stdout",
     "output_type": "stream",
     "text": [
      "Battery Size: 100\n"
     ]
    }
   ],
   "source": [
    "eCar.battery.get_battery_size()"
   ]
  },
  {
   "cell_type": "code",
   "execution_count": 4,
   "metadata": {},
   "outputs": [
    {
     "name": "stdout",
     "output_type": "stream",
     "text": [
      "Tesla made by Elon in 2019\n"
     ]
    }
   ],
   "source": [
    "eCar.description()"
   ]
  },
  {
   "cell_type": "code",
   "execution_count": 5,
   "metadata": {},
   "outputs": [
    {
     "name": "stdout",
     "output_type": "stream",
     "text": [
      "The Car ran 0 miles\n"
     ]
    }
   ],
   "source": [
    "eCar.take_meter_reading()"
   ]
  },
  {
   "cell_type": "code",
   "execution_count": 6,
   "metadata": {},
   "outputs": [],
   "source": [
    "eCar.update_meter(20)"
   ]
  },
  {
   "cell_type": "code",
   "execution_count": 7,
   "metadata": {},
   "outputs": [
    {
     "name": "stdout",
     "output_type": "stream",
     "text": [
      "The Car ran 20 miles\n"
     ]
    }
   ],
   "source": [
    "eCar.take_meter_reading()"
   ]
  },
  {
   "cell_type": "code",
   "execution_count": 14,
   "metadata": {},
   "outputs": [
    {
     "name": "stdout",
     "output_type": "stream",
     "text": [
      "Battery Size: 100\n"
     ]
    }
   ],
   "source": [
    "eCar.get_battery_size()"
   ]
  },
  {
   "cell_type": "code",
   "execution_count": 15,
   "metadata": {},
   "outputs": [],
   "source": [
    "eCar.set_battery_size(400)"
   ]
  },
  {
   "cell_type": "code",
   "execution_count": 16,
   "metadata": {},
   "outputs": [
    {
     "name": "stdout",
     "output_type": "stream",
     "text": [
      "Battery Size: 400\n"
     ]
    }
   ],
   "source": [
    "eCar.get_battery_size()"
   ]
  },
  {
   "cell_type": "code",
   "execution_count": 38,
   "metadata": {},
   "outputs": [],
   "source": [
    "class Restaurant():\n",
    "    def __init__(self, rest_name, cuisine_type):\n",
    "        self.rest_name = rest_name\n",
    "        self.cuisine_type = cuisine_type\n",
    "        self.number_served = 0\n",
    "    \n",
    "    def describe_restaurant(self):\n",
    "        print(f'The name of Restaurant is: {self.rest_name}')\n",
    "        print(f'They cuisine type is: {self.cuisine_type}')\n",
    "    \n",
    "    def isOpen(self, time):\n",
    "        if (time > 24 or time < 10):\n",
    "            print(f'{self.rest_name} is Close !')\n",
    "        else:\n",
    "            print(f'{self.rest_name} is Open !')\n",
    "            \n",
    "    def get_number_served(self):\n",
    "        print(f'Served {self.number_served}')\n",
    "    \n",
    "    def set_number_served(self,new_number_served):\n",
    "        self.number_served += new_number_served"
   ]
  },
  {
   "cell_type": "code",
   "execution_count": 50,
   "metadata": {},
   "outputs": [],
   "source": [
    "my_rest = Restaurant('Foodie', 'BBQ')"
   ]
  },
  {
   "cell_type": "code",
   "execution_count": 20,
   "metadata": {},
   "outputs": [
    {
     "name": "stdout",
     "output_type": "stream",
     "text": [
      "The name of Restaurant is: Foodie\n",
      "They cuisine type is: BBQ\n"
     ]
    }
   ],
   "source": [
    "my_rest.describe_restaurant()"
   ]
  },
  {
   "cell_type": "code",
   "execution_count": 21,
   "metadata": {},
   "outputs": [
    {
     "name": "stdout",
     "output_type": "stream",
     "text": [
      "Foodie is open!\n"
     ]
    }
   ],
   "source": [
    "my_rest.open_restaurant()"
   ]
  },
  {
   "cell_type": "code",
   "execution_count": 30,
   "metadata": {},
   "outputs": [
    {
     "name": "stdout",
     "output_type": "stream",
     "text": [
      "Foodie is Close !\n"
     ]
    }
   ],
   "source": [
    "my_rest.isOpen(5)"
   ]
  },
  {
   "cell_type": "code",
   "execution_count": 32,
   "metadata": {},
   "outputs": [
    {
     "data": {
      "text/plain": [
       "0"
      ]
     },
     "execution_count": 32,
     "metadata": {},
     "output_type": "execute_result"
    }
   ],
   "source": [
    "my_rest.number_served"
   ]
  },
  {
   "cell_type": "code",
   "execution_count": 60,
   "metadata": {},
   "outputs": [
    {
     "name": "stdout",
     "output_type": "stream",
     "text": [
      "Served 90\n"
     ]
    }
   ],
   "source": [
    "my_rest.set_number_served(10)\n",
    "my_rest.get_number_served()"
   ]
  },
  {
   "cell_type": "code",
   "execution_count": 63,
   "metadata": {},
   "outputs": [],
   "source": [
    "class IceCreamStand(Restaurant):\n",
    "    def __init__(self, rest_name, cuisine_type):\n",
    "        super().__init__(rest_name, cuisine_type)\n",
    "        self.flavours = ['vanilla', 'mango', 'strawberry', 'chocolate']\n",
    "    \n",
    "    def get_flavours(self):\n",
    "        print('Flavours are: ')\n",
    "        for flavour in self.flavours:\n",
    "            print(flavour, end = \" \")"
   ]
  },
  {
   "cell_type": "code",
   "execution_count": 65,
   "metadata": {},
   "outputs": [],
   "source": [
    "icecream_stand = IceCreamStand('Karachi Icecream', 'ice cream')"
   ]
  },
  {
   "cell_type": "code",
   "execution_count": 68,
   "metadata": {},
   "outputs": [
    {
     "name": "stdout",
     "output_type": "stream",
     "text": [
      "Flavours are: \n",
      "vanilla mango strawberry chocolate "
     ]
    }
   ],
   "source": [
    "icecream_stand.get_flavours()"
   ]
  },
  {
   "cell_type": "code",
   "execution_count": 74,
   "metadata": {},
   "outputs": [],
   "source": [
    "class User():\n",
    "    def __init__(self, first_name, last_name, email):\n",
    "        self.first_name = first_name\n",
    "        self.last_name = last_name\n",
    "        self.email = email\n",
    "        self.loginAttempt = 0\n",
    "    \n",
    "    def profile(self):\n",
    "        print(f'Name: {self.first_name} {self.last_name}')\n",
    "        print(f'Email: {self.email}')\n",
    "    \n",
    "    def greet_user(self):\n",
    "        print(f'Hello {self.first_name}')\n",
    "        \n",
    "    def get_login_attempts(self):\n",
    "        print(f'Logged In {self.loginAttempt} times')\n",
    "    \n",
    "    def increment_login_attempt(self):\n",
    "        self.loginAttempt += 1\n",
    "    \n",
    "    def reset_login_attempt(self):\n",
    "        self.loginAttempt = 0"
   ]
  },
  {
   "cell_type": "code",
   "execution_count": 75,
   "metadata": {},
   "outputs": [],
   "source": [
    "newUser = User('Ali', 'hamza','ali@gmail.com')"
   ]
  },
  {
   "cell_type": "code",
   "execution_count": 77,
   "metadata": {},
   "outputs": [
    {
     "name": "stdout",
     "output_type": "stream",
     "text": [
      "Name: Ali hamza\n",
      "Email: ali@gmail.com\n"
     ]
    }
   ],
   "source": [
    "newUser.profile()"
   ]
  },
  {
   "cell_type": "code",
   "execution_count": 78,
   "metadata": {},
   "outputs": [
    {
     "name": "stdout",
     "output_type": "stream",
     "text": [
      "Hello Ali\n"
     ]
    }
   ],
   "source": [
    "newUser.greet_user()"
   ]
  },
  {
   "cell_type": "code",
   "execution_count": 85,
   "metadata": {},
   "outputs": [
    {
     "name": "stdout",
     "output_type": "stream",
     "text": [
      "Logged In 6 times\n"
     ]
    }
   ],
   "source": [
    "newUser.increment_login_attempt()\n",
    "newUser.get_login_attempts()"
   ]
  },
  {
   "cell_type": "code",
   "execution_count": 86,
   "metadata": {},
   "outputs": [
    {
     "name": "stdout",
     "output_type": "stream",
     "text": [
      "Logged In 0 times\n"
     ]
    }
   ],
   "source": [
    "newUser.reset_login_attempt()\n",
    "newUser.get_login_attempts()"
   ]
  },
  {
   "cell_type": "code",
   "execution_count": null,
   "metadata": {},
   "outputs": [],
   "source": []
  },
  {
   "cell_type": "code",
   "execution_count": null,
   "metadata": {},
   "outputs": [],
   "source": []
  }
 ],
 "metadata": {
  "kernelspec": {
   "display_name": "Python 3",
   "language": "python",
   "name": "python3"
  },
  "language_info": {
   "codemirror_mode": {
    "name": "ipython",
    "version": 3
   },
   "file_extension": ".py",
   "mimetype": "text/x-python",
   "name": "python",
   "nbconvert_exporter": "python",
   "pygments_lexer": "ipython3",
   "version": "3.7.3"
  }
 },
 "nbformat": 4,
 "nbformat_minor": 2
}
